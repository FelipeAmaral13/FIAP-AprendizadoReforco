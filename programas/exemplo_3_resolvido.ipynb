{
 "cells": [
  {
   "cell_type": "markdown",
   "metadata": {},
   "source": [
    "# Exemplo 3 - Frozen Lake politica deterministica\n",
    "\n"
   ]
  },
  {
   "cell_type": "code",
   "execution_count": null,
   "metadata": {},
   "outputs": [],
   "source": [
    "# Importando as bibliotecas necessárias\n",
    "import gym\n",
    "import time\n",
    "\n",
    "# Criando o ambiente FrozenLake-v1 com renderização visual\n",
    "env = gym.make(\"FrozenLake-v1\", render_mode='human')\n",
    "\n",
    "# Reiniciando o ambiente e exibindo o estado inicial\n",
    "env.reset()\n",
    "env.render()\n",
    "\n",
    "# Definindo uma política determinística (sempre escolhendo \"right\")\n",
    "deterministicAction = 2  # 2 representa a ação \"right\" no espaço de ação\n",
    "\n",
    "# Executando a ação determinística no ambiente e obtendo informações\n",
    "observation, reward, terminated, truncated, info = env.step(deterministicAction)\n",
    "env.render()\n",
    "print(f'ação {deterministicAction} resultou em: {observation, reward, terminated, truncated, info} ')\n",
    "\n",
    "time.sleep(5)\n",
    "# Fechando o ambiente\n",
    "env.close()\n"
   ]
  },
  {
   "cell_type": "markdown",
   "metadata": {},
   "source": [
    "# Exercicio Politica deterministica:\n",
    "\n",
    "Faça o código que garanta a vitória do agente, ou seja, faça os comandos necessários para que o agente chegue ao seu objetivo."
   ]
  },
  {
   "cell_type": "code",
   "execution_count": null,
   "metadata": {},
   "outputs": [],
   "source": []
  }
 ],
 "metadata": {
  "kernelspec": {
   "display_name": "env_AR",
   "language": "python",
   "name": "python3"
  },
  "language_info": {
   "codemirror_mode": {
    "name": "ipython",
    "version": 3
   },
   "file_extension": ".py",
   "mimetype": "text/x-python",
   "name": "python",
   "nbconvert_exporter": "python",
   "pygments_lexer": "ipython3",
   "version": "3.9.11"
  },
  "orig_nbformat": 4
 },
 "nbformat": 4,
 "nbformat_minor": 2
}
