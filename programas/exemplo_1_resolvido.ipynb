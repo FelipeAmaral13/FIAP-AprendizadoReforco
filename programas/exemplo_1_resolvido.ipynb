{
 "cells": [
  {
   "cell_type": "markdown",
   "metadata": {},
   "source": [
    "# Aprendizado por Reforço - Exemplo 1\n",
    "\n",
    "Primeiro, importe as bibliotecas necessárias e crie o ambiente \"LunarLander-v2\" com renderização visual:"
   ]
  },
  {
   "cell_type": "code",
   "execution_count": 1,
   "metadata": {},
   "outputs": [
    {
     "data": {
      "text/plain": [
       "[42]"
      ]
     },
     "execution_count": 1,
     "metadata": {},
     "output_type": "execute_result"
    }
   ],
   "source": [
    "import gym\n",
    "\n",
    "# Criando o ambiente LunarLander-v2 com renderização visual\n",
    "env = gym.make(\"LunarLander-v2\", render_mode=\"human\")\n",
    "env.action_space.seed(42)\n"
   ]
  },
  {
   "cell_type": "markdown",
   "metadata": {},
   "source": [
    "Aqui, usamos a biblioteca Gym para criar o ambiente \"LunarLander-v2\" e definimos o modo de renderização como \"human\", o que nos permite visualizar a simulação interativamente. Além disso, definimos a semente para o espaço de ação para garantir a reprodutibilidade dos resultados.\n",
    "\n",
    "Agora, inicialize a observação inicial e outras variáveis necessárias:"
   ]
  },
  {
   "cell_type": "code",
   "execution_count": 2,
   "metadata": {},
   "outputs": [
    {
     "name": "stdout",
     "output_type": "stream",
     "text": [
      "Python implementation: CPython\n",
      "Python version       : 3.9.11\n",
      "IPython version      : 8.14.0\n",
      "\n",
      "gym: 0.26.2\n",
      "\n"
     ]
    }
   ],
   "source": [
    "%load_ext watermark\n",
    "%watermark -v -p gym"
   ]
  },
  {
   "cell_type": "code",
   "execution_count": 3,
   "metadata": {},
   "outputs": [],
   "source": [
    "observation, info = env.reset(seed=42)"
   ]
  },
  {
   "cell_type": "markdown",
   "metadata": {},
   "source": [
    "A função reset() é usada para redefinir o ambiente para o estado inicial. Passamos a semente como argumento para garantir a reprodutibilidade.\n",
    "\n",
    "Agora, vamos executar um loop para interagir com o ambiente e realizar ações aleatórias. \n",
    "\n",
    "Dentro do loop, estamos executando as seguintes ações:\n",
    "\n",
    "* env.action_space.sample() gera uma ação aleatória do espaço de ação do ambiente.\n",
    "* env.step() executa a ação no ambiente e retorna a observação atualizada, recompensa, um sinalizador de término, um sinalizador de truncamento e informações adicionais.\n",
    "\n",
    "Se o ambiente for encerrado (terminated ou truncated forem verdadeiros), redefinimos o ambiente para o estado inicial usando env.reset()."
   ]
  },
  {
   "cell_type": "code",
   "execution_count": 4,
   "metadata": {},
   "outputs": [
    {
     "name": "stderr",
     "output_type": "stream",
     "text": [
      "e:\\FIAP\\Aprendizado_Reforco\\Programas\\env_AR\\lib\\site-packages\\gym\\utils\\passive_env_checker.py:233: DeprecationWarning: `np.bool8` is a deprecated alias for `np.bool_`.  (Deprecated NumPy 1.24)\n",
      "  if not isinstance(terminated, (bool, np.bool8)):\n"
     ]
    },
    {
     "name": "stdout",
     "output_type": "stream",
     "text": [
      "Action: 0\n",
      "Observation: [ 0.00459394  1.424763    0.23233262  0.2947628  -0.00525882 -0.05208295\n",
      "  0.          0.        ]\n",
      "Reward: 1.1449803922348565\n",
      "Terminated: False\n",
      "Truncated: False\n",
      "Info: {}\n",
      "Pressione a tecla 'Esc' para continuar...\n",
      "Action: 3\n",
      "Observation: [ 0.00697489  1.4308035   0.2428536   0.26844853 -0.00996893 -0.09421118\n",
      "  0.          0.        ]\n",
      "Reward: 0.2259699115473677\n",
      "Terminated: False\n",
      "Truncated: False\n",
      "Info: {}\n",
      "Pressione a tecla 'Esc' para continuar...\n",
      "Action: 2\n",
      "Observation: [ 0.00931158  1.4375646   0.23868391  0.30044597 -0.01493233 -0.09927683\n",
      "  0.          0.        ]\n",
      "Reward: -3.6455437355172817\n",
      "Terminated: False\n",
      "Truncated: False\n",
      "Info: {}\n",
      "Pressione a tecla 'Esc' para continuar...\n",
      "Action: 1\n",
      "Observation: [ 0.01158533  1.4437385   0.2307829   0.2743505  -0.01830477 -0.06745521\n",
      "  0.          0.        ]\n",
      "Reward: 1.5343877734264038\n",
      "Terminated: False\n",
      "Truncated: False\n",
      "Info: {}\n",
      "Pressione a tecla 'Esc' para continuar...\n",
      "Action: 1\n",
      "Observation: [ 0.01376848  1.4493215   0.21942608  0.24812508 -0.01939567 -0.02181998\n",
      "  0.          0.        ]\n",
      "Reward: 2.0285537692519724\n",
      "Terminated: False\n",
      "Truncated: False\n",
      "Info: {}\n",
      "Pressione a tecla 'Esc' para continuar...\n"
     ]
    }
   ],
   "source": [
    "# Executando interações com o ambiente\n",
    "for _ in range(5):\n",
    "    # Gerando uma ação aleatória do espaço de ação\n",
    "    action = env.action_space.sample()\n",
    "\n",
    "    # Executando a ação no ambiente e obtendo informações\n",
    "    observation, reward, terminated, truncated, info = env.step(action)\n",
    "\n",
    "    # Exibindo as variáveis\n",
    "    print(\"Action:\", action)\n",
    "    print(\"Observation:\", observation)\n",
    "    print(\"Reward:\", reward)\n",
    "    print(\"Terminated:\", terminated)\n",
    "    print(\"Truncated:\", truncated)\n",
    "    print(\"Info:\", info)\n",
    "\n",
    "    # Aguardando a tecla \"Esc\" ser pressionada\n",
    "    print(\"Pressione a tecla 'Esc' para continuar...\")\n",
    "    while True:\n",
    "        if input() == '1':\n",
    "            break\n",
    "\n",
    "    # Verificando se o ambiente foi encerrado ou truncado\n",
    "    if terminated or truncated:\n",
    "        # Redefinindo o ambiente para o estado inicial\n",
    "        observation, info = env.reset()"
   ]
  },
  {
   "cell_type": "markdown",
   "metadata": {},
   "source": [
    "Por fim, fechamos o ambiente:"
   ]
  },
  {
   "cell_type": "code",
   "execution_count": null,
   "metadata": {},
   "outputs": [],
   "source": [
    "env.close()"
   ]
  },
  {
   "cell_type": "code",
   "execution_count": null,
   "metadata": {},
   "outputs": [],
   "source": []
  }
 ],
 "metadata": {
  "kernelspec": {
   "display_name": "env_AR",
   "language": "python",
   "name": "python3"
  },
  "language_info": {
   "codemirror_mode": {
    "name": "ipython",
    "version": 3
   },
   "file_extension": ".py",
   "mimetype": "text/x-python",
   "name": "python",
   "nbconvert_exporter": "python",
   "pygments_lexer": "ipython3",
   "version": "3.9.11"
  },
  "orig_nbformat": 4
 },
 "nbformat": 4,
 "nbformat_minor": 2
}
