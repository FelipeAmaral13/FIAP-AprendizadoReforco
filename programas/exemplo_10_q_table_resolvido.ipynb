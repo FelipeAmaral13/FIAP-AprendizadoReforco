{
 "cells": [
  {
   "cell_type": "markdown",
   "metadata": {},
   "source": [
    "# Treinamento de Agente em Labirinto com Aprendizado por Reforço\n",
    "\n",
    "Neste código, um agente é treinado para navegar por um labirinto usando aprendizado por reforço. O labirinto é representado como uma grade e o agente pode executar quatro ações possíveis: \n",
    "* mover para cima, mover para baixo, mover para a esquerda e mover para a direita. \n",
    "\n",
    "O objetivo do agente é aprender a política ótima que o guia do estado inicial ao estado objetivo, maximizando a recompensa acumulada."
   ]
  },
  {
   "cell_type": "markdown",
   "metadata": {},
   "source": [
    "## Configurações iniciais\n",
    "\n",
    "Inicializar as configurações iniciais do ambiente do labirinto, como o tamanho do labirinto, o número de ações possíveis, a taxa de aprendizado, o fator de desconto e o número de episódios de treinamento. Além disso, inicializar uma matriz chamada q_table que será usada para armazenar os valores da função Q."
   ]
  },
  {
   "cell_type": "code",
   "execution_count": 7,
   "metadata": {},
   "outputs": [],
   "source": [
    "import cv2\n",
    "import numpy as np\n",
    "import random\n",
    "import matplotlib.pyplot as plt\n",
    "\n",
    "# Tamanho do labirinto\n",
    "GRID_SIZE = 10\n",
    "\n",
    "# Número de ações possíveis (cima, baixo, esquerda, direita)\n",
    "NUM_ACTIONS = 4\n",
    "\n",
    "# Taxa de aprendizado\n",
    "LEARNING_RATE = 0.1\n",
    "\n",
    "# Fator de desconto\n",
    "DISCOUNT_FACTOR = 0.9\n",
    "\n",
    "# Número de episódios de treinamento\n",
    "NUM_EPISODES = 25\n",
    "\n",
    "# Inicialização da tabela-Q\n",
    "q_table = np.zeros((GRID_SIZE, GRID_SIZE, NUM_ACTIONS))\n"
   ]
  },
  {
   "cell_type": "markdown",
   "metadata": {},
   "source": [
    "## Definição de funções \n",
    "\n",
    "Definir duas funções: \n",
    "\n",
    "* `choose_action`: que escolhe uma ação com base na estratégia epsilon-greedy.\n",
    "* `run_episode`: que executa um episódio de treinamento do agente no labirinto. \n",
    "\n",
    "A função choose_action decide se o agente deve explorar (escolhendo uma ação aleatória) ou explorar (escolhendo a ação com maior valor Q) com base no valor de epsilon. A função run_episode simula o movimento do agente no labirinto, atualiza a tabela Q com base na recompensa e na equação de Bellman."
   ]
  },
  {
   "cell_type": "code",
   "execution_count": 8,
   "metadata": {},
   "outputs": [],
   "source": [
    "# Função para escolher uma ação epsilon-greedy\n",
    "def choose_action(state, epsilon):\n",
    "    if random.uniform(0, 1) < epsilon:\n",
    "        return random.randint(0, NUM_ACTIONS - 1)  # Escolhe uma ação aleatória\n",
    "    else:\n",
    "        return np.argmax(q_table[state[0], state[1]])\n",
    "\n",
    "# Função para executar um episódio\n",
    "def run_episode():\n",
    "    state = [0, 0]  # Estado inicial\n",
    "    goal = [GRID_SIZE - 1, GRID_SIZE - 1]  # Objetivo\n",
    "    epsilon = 0.1  # Valor de epsilon para exploração\n",
    "\n",
    "    while state != goal:\n",
    "        action = choose_action(state, epsilon)\n",
    "        new_state = state.copy()\n",
    "\n",
    "        # Simulação de movimento do agente\n",
    "        if action == 0:  # Mover para cima\n",
    "            new_state[0] = max(0, state[0] - 1)\n",
    "        elif action == 1:  # Mover para baixo\n",
    "            new_state[0] = min(GRID_SIZE - 1, state[0] + 1)\n",
    "        elif action == 2:  # Mover para a esquerda\n",
    "            new_state[1] = max(0, state[1] - 1)\n",
    "        elif action == 3:  # Mover para a direita\n",
    "            new_state[1] = min(GRID_SIZE - 1, state[1] + 1)\n",
    "\n",
    "        reward = -1  # Recompensa por movimento\n",
    "\n",
    "        # Atualização da tabela-Q usando a equação de Bellman\n",
    "        q_table[state[0], state[1], action] = (1 - LEARNING_RATE) * q_table[state[0], state[1], action] + LEARNING_RATE * (reward + DISCOUNT_FACTOR * np.max(q_table[new_state[0], new_state[1]]))\n",
    "\n",
    "        state = new_state\n"
   ]
  },
  {
   "cell_type": "markdown",
   "metadata": {},
   "source": [
    "## Treinamento do agente\n",
    "\n",
    "Esta célula treina o agente executando um número de episódios especificado por NUM_EPISODES. Cada episódio é executado chamando a função run_episode."
   ]
  },
  {
   "cell_type": "code",
   "execution_count": 9,
   "metadata": {},
   "outputs": [],
   "source": [
    "# Treinamento do agente\n",
    "for episode in range(NUM_EPISODES):\n",
    "    run_episode()\n"
   ]
  },
  {
   "cell_type": "markdown",
   "metadata": {},
   "source": [
    "## Exibição da tabela-Q após o treinamento\n",
    "\n",
    "Esta célula exibe a tabela Q após o treinamento. A tabela Q contém os valores estimados para a função Q após o treinamento."
   ]
  },
  {
   "cell_type": "code",
   "execution_count": 10,
   "metadata": {},
   "outputs": [
    {
     "name": "stdout",
     "output_type": "stream",
     "text": [
      "Tabela-Q após o treinamento:\n",
      "[[[-2.5209214  -2.54187485 -2.52340664 -2.52393125]\n",
      "  [-2.27962615 -2.27447776 -2.35289115 -2.2577109 ]\n",
      "  [-2.0546543  -2.07277728 -2.14531029 -2.17911386]\n",
      "  [-2.05739964 -2.07145028 -2.03069751 -2.01395794]\n",
      "  [-1.96167847 -1.97190432 -1.89749873 -1.94502947]\n",
      "  [-1.81115047 -1.86687085 -1.89054555 -1.88910465]\n",
      "  [-1.81668417 -1.80688909 -1.87830279 -1.83119132]\n",
      "  [-1.73198226 -1.78273755 -1.79436601 -1.76732414]\n",
      "  [-1.72430147 -1.76985965 -1.77196455 -1.72845986]\n",
      "  [-1.73823222 -1.70903182 -1.7605717  -1.73831376]]\n",
      "\n",
      " [[-2.33351469 -2.31590509 -2.29463348 -2.30034404]\n",
      "  [-2.18023472 -2.18884012 -2.19138949 -2.13447582]\n",
      "  [-2.09479347 -2.01685218 -2.02138271 -2.03394482]\n",
      "  [-2.02922426 -2.06813009 -2.0054791  -2.03006896]\n",
      "  [-1.92413216 -1.93631381 -1.99556029 -1.90944973]\n",
      "  [-1.82190401 -1.87083159 -1.89538074 -1.83803751]\n",
      "  [-1.81250426 -1.7595742  -1.81077102 -1.78877565]\n",
      "  [-1.72778761 -1.76237698 -1.77839071 -1.80312715]\n",
      "  [-1.74458761 -1.75819629 -1.78144308 -1.71675146]\n",
      "  [-1.73013068 -1.76115713 -1.66646612 -1.79073224]]\n",
      "\n",
      " [[-2.15869485 -2.16603894 -2.14321859 -2.15462336]\n",
      "  [-2.0827462  -2.07528237 -2.12518255 -2.05228272]\n",
      "  [-1.95307389 -2.00685127 -1.99596556 -1.96848476]\n",
      "  [-2.03211139 -1.90468608 -1.92024948 -1.9642542 ]\n",
      "  [-1.85143771 -1.9248955  -1.90646712 -1.88616926]\n",
      "  [-1.84486664 -1.83569477 -1.81105858 -1.82809887]\n",
      "  [-1.74116603 -1.78295682 -1.71742767 -1.7446645 ]\n",
      "  [-1.73349521 -1.64970003 -1.70357437 -1.7015911 ]\n",
      "  [-1.75188388 -1.66076658 -1.68401994 -1.64576949]\n",
      "  [-1.74554729 -1.66988289 -1.67057229 -1.73831376]]\n",
      "\n",
      " [[-2.03372112 -2.01030571 -1.9836941  -2.03729125]\n",
      "  [-2.00262779 -1.95074959 -1.95080317 -2.07855932]\n",
      "  [-1.95320095 -1.95174529 -1.96953965 -1.99625381]\n",
      "  [-1.86421422 -1.83775671 -1.90675778 -1.90145218]\n",
      "  [-1.85649643 -1.87986387 -1.81901644 -1.84162598]\n",
      "  [-1.84515888 -1.75255323 -1.80305956 -1.7942323 ]\n",
      "  [-1.69712742 -1.82110193 -1.8035344  -1.69819652]\n",
      "  [-1.61387551 -1.65227493 -1.67765352 -1.62611601]\n",
      "  [-1.60669568 -1.65528099 -1.61679068 -1.6222085 ]\n",
      "  [-1.67497252 -1.65867715 -1.61678602 -1.65486239]]\n",
      "\n",
      " [[-1.92104796 -1.87529583 -1.89819559 -1.9399864 ]\n",
      "  [-1.90612196 -1.8831876  -1.83713967 -1.85234084]\n",
      "  [-1.87917276 -1.89517428 -1.79071183 -1.83024898]\n",
      "  [-1.77287047 -1.81412598 -1.8094607  -1.76926765]\n",
      "  [-1.77956765 -1.79998853 -1.71940855 -1.76306956]\n",
      "  [-1.69023306 -1.6597559  -1.73465441 -1.7759162 ]\n",
      "  [-1.75845182 -1.72210982 -1.70097457 -1.68560522]\n",
      "  [-1.61374397 -1.65540416 -1.67931024 -1.6233277 ]\n",
      "  [-1.60220445 -1.54760911 -1.61134572 -1.62900402]\n",
      "  [-1.62491939 -1.54869791 -1.58884453 -1.57056807]]\n",
      "\n",
      " [[-1.88355182 -1.80197936 -1.89604749 -1.82461637]\n",
      "  [-1.78517599 -1.8102107  -1.85194121 -1.79330526]\n",
      "  [-1.77387282 -1.74275671 -1.78635414 -1.77372635]\n",
      "  [-1.76087003 -1.73741384 -1.69538544 -1.79050561]\n",
      "  [-1.67892741 -1.73565789 -1.71758623 -1.68648488]\n",
      "  [-1.6255141  -1.65423259 -1.60942376 -1.68453426]\n",
      "  [-1.62223541 -1.57350433 -1.64391544 -1.67734033]\n",
      "  [-1.62059787 -1.54578812 -1.54316739 -1.53894327]\n",
      "  [-1.54525457 -1.51400828 -1.46094604 -1.47072046]\n",
      "  [-1.47226338 -1.45624353 -1.49110987 -1.48542229]]\n",
      "\n",
      " [[-1.79868012 -1.7395065  -1.73461705 -1.80122395]\n",
      "  [-1.75061627 -1.74778287 -1.74929201 -1.80260912]\n",
      "  [-1.69004598 -1.75302729 -1.74264114 -1.69538009]\n",
      "  [-1.69856415 -1.75807908 -1.67832108 -1.61575824]\n",
      "  [-1.60834654 -1.61511326 -1.63367916 -1.65824864]\n",
      "  [-1.59229597 -1.57552803 -1.54026991 -1.60792141]\n",
      "  [-1.53409662 -1.47832447 -1.46441076 -1.57019899]\n",
      "  [-1.44221867 -1.37396057 -1.44925341 -1.50871462]\n",
      "  [-1.41048356 -1.42435437 -1.36967884 -1.43409648]\n",
      "  [-1.38583035 -1.30084494 -1.3617979  -1.3068353 ]]\n",
      "\n",
      " [[-1.77742421 -1.70398956 -1.71662333 -1.72126105]\n",
      "  [-1.69259608 -1.76287504 -1.69856496 -1.71621753]\n",
      "  [-1.67138262 -1.68903394 -1.69652897 -1.70377172]\n",
      "  [-1.67669078 -1.69484576 -1.62698514 -1.65870779]\n",
      "  [-1.60796331 -1.66864292 -1.53528911 -1.57902677]\n",
      "  [-1.53609671 -1.51781552 -1.54340916 -1.48284156]\n",
      "  [-1.4471651  -1.40655389 -1.38994196 -1.39866808]\n",
      "  [-1.27082724 -1.2859237  -1.30082823 -1.32307448]\n",
      "  [-1.23665454 -1.16975441 -1.21470343 -1.23436237]\n",
      "  [-1.11995469 -1.12593215 -1.09583534 -1.13615128]]\n",
      "\n",
      " [[-1.75487535 -1.68767523 -1.71557384 -1.72798436]\n",
      "  [-1.69218361 -1.68904756 -1.74987763 -1.70401691]\n",
      "  [-1.66815279 -1.61495538 -1.68497239 -1.68118619]\n",
      "  [-1.64767435 -1.68917137 -1.63160259 -1.61769969]\n",
      "  [-1.59137477 -1.55017189 -1.53716252 -1.57619219]\n",
      "  [-1.52444949 -1.50831971 -1.46073629 -1.48163077]\n",
      "  [-1.35008478 -1.34595303 -1.40135111 -1.37362444]\n",
      "  [-1.19293644 -1.14974607 -1.24761203 -1.1703485 ]\n",
      "  [-0.9405211  -0.99140873 -0.96517864 -0.99893011]\n",
      "  [-0.79526501 -0.74581342 -0.77221621 -0.7703044 ]]\n",
      "\n",
      " [[-1.72241381 -1.65486239 -1.65486239 -1.66151841]\n",
      "  [-1.66124073 -1.6437275  -1.69749059 -1.61615668]\n",
      "  [-1.64008252 -1.57056807 -1.61319717 -1.61855349]\n",
      "  [-1.65706692 -1.64197566 -1.61606119 -1.66415056]\n",
      "  [-1.49902551 -1.57056807 -1.63099853 -1.56423812]\n",
      "  [-1.48612982 -1.47930237 -1.45593283 -1.46366569]\n",
      "  [-1.3306234  -1.28247272 -1.31862354 -1.24942284]\n",
      "  [-1.08541772 -1.04661746 -1.0375551  -1.07853619]\n",
      "  [-0.7525969  -0.77255306 -0.79773892 -0.71757046]\n",
      "  [ 0.          0.          0.          0.        ]]]\n"
     ]
    }
   ],
   "source": [
    "# Mostrar a tabela-Q após o treinamento\n",
    "print(\"Tabela-Q após o treinamento:\")\n",
    "print(q_table)\n"
   ]
  },
  {
   "cell_type": "markdown",
   "metadata": {},
   "source": [
    "## Visualização da política aprendida\n",
    "\n",
    "a política aprendida pelo agente é visualizada. A política é obtida encontrando a ação com o maior valor Q para cada estado."
   ]
  },
  {
   "cell_type": "code",
   "execution_count": 11,
   "metadata": {},
   "outputs": [
    {
     "name": "stdout",
     "output_type": "stream",
     "text": [
      "\n",
      "Política aprendida:\n",
      "[[0 3 0 3 2 0 1 0 0 1]\n",
      " [2 3 1 2 3 0 1 0 3 2]\n",
      " [2 3 0 1 0 2 2 1 3 1]\n",
      " [2 1 1 1 2 1 0 0 0 2]\n",
      " [1 2 2 3 2 1 3 0 1 1]\n",
      " [1 0 1 2 0 2 1 3 2 1]\n",
      " [2 1 0 3 0 2 2 1 2 1]\n",
      " [1 0 0 2 2 3 2 0 1 2]\n",
      " [1 1 1 3 2 2 1 1 0 1]\n",
      " [1 3 1 2 0 2 3 2 3 0]]\n"
     ]
    }
   ],
   "source": [
    "# Visualização da política aprendida\n",
    "policy = np.argmax(q_table, axis=2)\n",
    "print(\"\\nPolítica aprendida:\")\n",
    "print(policy)"
   ]
  },
  {
   "cell_type": "markdown",
   "metadata": {},
   "source": [
    "A política aprendida é uma representação das ações que o agente deve tomar em cada estado do labirinto para maximizar a recompensa esperada. Cada elemento da matriz representa um estado no labirinto e contém um valor que indica qual ação o agente deve escolher naquele estado. Os valores são mapeados da seguinte forma:\n",
    "\n",
    "- 0: Mover para cima\n",
    "- 1: Mover para baixo\n",
    "- 2: Mover para a esquerda\n",
    "- 3: Mover para a direita\n",
    "\n",
    "Portanto, a política aprendida mostra as ações recomendadas para cada posição no labirinto. Por exemplo, se você olhar para a célula [0, 0], que é o canto superior esquerdo, o valor 1 indica que o agente deve escolher a ação de \"Mover para baixo\" nesse estado. Da mesma forma, a célula [0, 1] tem um valor de 2, o que significa que o agente deve escolher a ação \"Mover para a esquerda\" no próximo estado.\n"
   ]
  },
  {
   "cell_type": "markdown",
   "metadata": {},
   "source": [
    "## Desenho do labirinto com setas vermelhas representando a política aprendida"
   ]
  },
  {
   "cell_type": "code",
   "execution_count": 12,
   "metadata": {},
   "outputs": [
    {
     "data": {
      "image/png": "[encoded data removed]",
      "text/plain": [
       "<Figure size 640x480 with 1 Axes>"
      ]
     },
     "metadata": {},
     "output_type": "display_data"
    }
   ],
   "source": [
    "# Criar matriz de cores para as setas vermelhas\n",
    "arrow_color = np.zeros((GRID_SIZE, GRID_SIZE, 3), dtype=np.uint8)\n",
    "arrow_color[:, :, 2] = 255  # Define o canal vermelho como 255 (vermelho)\n",
    "\n",
    "# Desenhar o labirinto com as setas vermelhas\n",
    "cell_size = 100\n",
    "maze = np.zeros((GRID_SIZE * cell_size, GRID_SIZE * cell_size, 3), dtype=np.uint8)\n",
    "\n",
    "for i in range(GRID_SIZE):\n",
    "    for j in range(GRID_SIZE):\n",
    "        if policy[i, j] == 0:  # Cima\n",
    "            cv2.arrowedLine(maze, (j * cell_size + cell_size // 2, i * cell_size + cell_size // 2), (j * cell_size + cell_size // 2, i * cell_size + cell_size // 2 - 30), (0, 0, 255), 2)\n",
    "        elif policy[i, j] == 1:  # Baixo\n",
    "            cv2.arrowedLine(maze, (j * cell_size + cell_size // 2, i * cell_size + cell_size // 2), (j * cell_size + cell_size // 2, i * cell_size + cell_size // 2 + 30), (0, 0, 255), 2)\n",
    "        elif policy[i, j] == 2:  # Esquerda\n",
    "            cv2.arrowedLine(maze, (j * cell_size + cell_size // 2, i * cell_size + cell_size // 2), (j * cell_size + cell_size // 2 - 30, i * cell_size + cell_size // 2), (0, 0, 255), 2)\n",
    "        elif policy[i, j] == 3:  # Direita\n",
    "            cv2.arrowedLine(maze, (j * cell_size + cell_size // 2, i * cell_size + cell_size // 2), (j * cell_size + cell_size // 2 + 30, i * cell_size + cell_size // 2), (0, 0, 255), 2)\n",
    "\n",
    "plt.imshow(maze)\n",
    "plt.show()\n"
   ]
  }
 ],
 "metadata": {
  "kernelspec": {
   "display_name": "env_AR",
   "language": "python",
   "name": "python3"
  },
  "language_info": {
   "codemirror_mode": {
    "name": "ipython",
    "version": 3
   },
   "file_extension": ".py",
   "mimetype": "text/x-python",
   "name": "python",
   "nbconvert_exporter": "python",
   "pygments_lexer": "ipython3",
   "version": "3.9.11"
  },
  "orig_nbformat": 4
 },
 "nbformat": 4,
 "nbformat_minor": 2
}
