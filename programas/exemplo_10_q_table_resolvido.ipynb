{
 "cells": [
  {
   "cell_type": "markdown",
   "metadata": {},
   "source": [
    "# Treinamento de Agente em Labirinto com Aprendizado por Reforço\n",
    "\n",
    "Neste código, um agente é treinado para navegar por um labirinto usando aprendizado por reforço. O labirinto é representado como uma grade e o agente pode executar quatro ações possíveis: \n",
    "* mover para cima, mover para baixo, mover para a esquerda e mover para a direita. \n",
    "\n",
    "O objetivo do agente é aprender a política ótima que o guia do estado inicial ao estado objetivo, maximizando a recompensa acumulada."
   ]
  },
  {
   "cell_type": "markdown",
   "metadata": {},
   "source": [
    "## Configurações iniciais\n",
    "\n",
    "Inicializar as configurações iniciais do ambiente do labirinto, como o tamanho do labirinto, o número de ações possíveis, a taxa de aprendizado, o fator de desconto e o número de episódios de treinamento. Além disso, inicializar uma matriz chamada q_table que será usada para armazenar os valores da função Q."
   ]
  },
  {
   "cell_type": "code",
   "execution_count": 31,
   "metadata": {},
   "outputs": [],
   "source": [
    "import cv2\n",
    "import numpy as np\n",
    "import random\n",
    "import matplotlib.pyplot as plt\n",
    "\n",
    "# Tamanho do labirinto\n",
    "GRID_SIZE = 10\n",
    "\n",
    "# Número de ações possíveis (cima, baixo, esquerda, direita)\n",
    "NUM_ACTIONS = 4\n",
    "\n",
    "# Taxa de aprendizado\n",
    "LEARNING_RATE = 0.1\n",
    "\n",
    "# Fator de desconto\n",
    "DISCOUNT_FACTOR = 0.9\n",
    "\n",
    "# Número de episódios de treinamento\n",
    "NUM_EPISODES = 1000000\n",
    "\n",
    "# Inicialização da tabela-Q\n",
    "q_table = np.zeros((GRID_SIZE, GRID_SIZE, NUM_ACTIONS))\n"
   ]
  },
  {
   "cell_type": "markdown",
   "metadata": {},
   "source": [
    "## Definição de funções \n",
    "\n",
    "Definir duas funções: \n",
    "\n",
    "* `choose_action`: que escolhe uma ação com base na estratégia epsilon-greedy.\n",
    "* `run_episode`: que executa um episódio de treinamento do agente no labirinto. \n",
    "\n",
    "A função choose_action decide se o agente deve explorar (escolhendo uma ação aleatória) ou explorar (escolhendo a ação com maior valor Q) com base no valor de epsilon. A função run_episode simula o movimento do agente no labirinto, atualiza a tabela Q com base na recompensa e na equação de Bellman."
   ]
  },
  {
   "cell_type": "code",
   "execution_count": 32,
   "metadata": {},
   "outputs": [],
   "source": [
    "# Função para escolher uma ação epsilon-greedy\n",
    "def choose_action(state, epsilon):\n",
    "    if random.uniform(0, 1) < epsilon:\n",
    "        return random.randint(0, NUM_ACTIONS - 1)  # Escolhe uma ação aleatória\n",
    "    else:\n",
    "        return np.argmax(q_table[state[0], state[1]])\n",
    "\n",
    "# Função para executar um episódio\n",
    "def run_episode():\n",
    "    state = [0, 0]  # Estado inicial\n",
    "    goal = [0, GRID_SIZE - 1]  # Objetivo\n",
    "    epsilon = 0.1  # Valor de epsilon para exploração\n",
    "\n",
    "    while state != goal:\n",
    "        action = choose_action(state, epsilon)\n",
    "        new_state = state.copy()\n",
    "\n",
    "        # Simulação de movimento do agente\n",
    "        if action == 0:  # Mover para cima\n",
    "            new_state[0] = max(0, state[0] - 1)\n",
    "        elif action == 1:  # Mover para baixo\n",
    "            new_state[0] = min(GRID_SIZE - 1, state[0] + 1)\n",
    "        elif action == 2:  # Mover para a esquerda\n",
    "            new_state[1] = max(0, state[1] - 1)\n",
    "        elif action == 3:  # Mover para a direita\n",
    "            new_state[1] = min(GRID_SIZE - 1, state[1] + 1)\n",
    "\n",
    "        reward = -1  # Recompensa por movimento\n",
    "\n",
    "        # Atualização da tabela-Q usando a equação de Bellman\n",
    "        q_table[state[0], state[1], action] = (1 - LEARNING_RATE) * q_table[state[0], state[1], action] + LEARNING_RATE * (reward + DISCOUNT_FACTOR * np.max(q_table[new_state[0], new_state[1]]))\n",
    "\n",
    "        state = new_state\n"
   ]
  },
  {
   "cell_type": "markdown",
   "metadata": {},
   "source": [
    "## Treinamento do agente\n",
    "\n",
    "Esta célula treina o agente executando um número de episódios especificado por NUM_EPISODES. Cada episódio é executado chamando a função run_episode."
   ]
  },
  {
   "cell_type": "code",
   "execution_count": 33,
   "metadata": {},
   "outputs": [],
   "source": [
    "# Treinamento do agente\n",
    "for episode in range(NUM_EPISODES):\n",
    "    run_episode()\n"
   ]
  },
  {
   "cell_type": "markdown",
   "metadata": {},
   "source": [
    "## Exibição da tabela-Q após o treinamento\n",
    "\n",
    "Esta célula exibe a tabela Q após o treinamento. A tabela Q contém os valores estimados para a função Q após o treinamento."
   ]
  },
  {
   "cell_type": "code",
   "execution_count": 34,
   "metadata": {},
   "outputs": [
    {
     "name": "stdout",
     "output_type": "stream",
     "text": [
      "Tabela-Q após o treinamento:\n",
      "[[[-6.5132156  -6.86189404 -6.5132156  -6.12579511]\n",
      "  [-6.12579511 -6.5132156  -6.5132156  -5.6953279 ]\n",
      "  [-5.6953279  -6.12579511 -6.12579511 -5.217031  ]\n",
      "  [-5.217031   -5.6953279  -5.6953279  -4.68559   ]\n",
      "  [-4.68559    -5.217031   -5.217031   -4.0951    ]\n",
      "  [-4.0951     -4.68559    -4.68559    -3.439     ]\n",
      "  [-3.439      -4.0951     -4.0951     -2.71      ]\n",
      "  [-2.71       -3.439      -3.439      -1.9       ]\n",
      "  [-1.9        -2.71       -2.71       -1.        ]\n",
      "  [ 0.          0.          0.          0.        ]]\n",
      "\n",
      " [[-6.5132156  -7.17570464 -6.86189404 -6.5132156 ]\n",
      "  [-6.12579511 -6.86189404 -6.86189404 -6.12579511]\n",
      "  [-5.6953279  -6.5132156  -6.5132156  -5.6953279 ]\n",
      "  [-5.217031   -6.12579511 -6.12579511 -5.217031  ]\n",
      "  [-4.68559    -5.6953279  -5.6953279  -4.68559   ]\n",
      "  [-4.0951     -5.217031   -5.217031   -4.0951    ]\n",
      "  [-3.439      -4.68559    -4.68559    -3.439     ]\n",
      "  [-2.71       -4.0951     -4.0951     -2.71      ]\n",
      "  [-1.9        -3.439      -3.439      -1.9       ]\n",
      "  [-1.         -2.62943371 -2.66249988 -1.89508691]]\n",
      "\n",
      " [[-6.86189404 -7.00013082 -7.07882458 -6.86189404]\n",
      "  [-6.5132156  -6.88673928 -7.11497695 -6.5132156 ]\n",
      "  [-6.12579511 -6.63716262 -6.77962704 -6.12579511]\n",
      "  [-5.6953279  -6.2986782  -6.48204366 -5.6953279 ]\n",
      "  [-5.217031   -5.925515   -6.02682882 -5.217031  ]\n",
      "  [-4.68559    -5.57114228 -5.68210353 -4.68559   ]\n",
      "  [-4.0951     -5.0712613  -5.14698413 -4.0951    ]\n",
      "  [-3.439      -4.61687617 -4.64698295 -3.439     ]\n",
      "  [-2.71       -4.02482568 -4.0309386  -2.71      ]\n",
      "  [-1.9        -2.85127873 -2.84907428 -2.52414443]]\n",
      "\n",
      " [[-6.78690971 -6.76576523 -6.79758783 -6.75694535]\n",
      "  [-6.64468787 -6.62448678 -6.67296586 -6.62563526]\n",
      "  [-6.37206701 -6.36976345 -6.38802784 -6.37030369]\n",
      "  [-6.03635875 -6.06348224 -6.11192427 -6.0374056 ]\n",
      "  [-5.64567164 -5.66370266 -5.70902874 -5.64784258]\n",
      "  [-5.19495868 -5.23947494 -5.28286803 -5.1935039 ]\n",
      "  [-4.67650621 -4.67556619 -4.7911553  -4.67607114]\n",
      "  [-4.09225097 -4.23540003 -4.21341752 -4.09218269]\n",
      "  [-3.43844531 -3.73527423 -3.69600634 -3.43844428]\n",
      "  [-2.70999993 -2.95829173 -3.05924209 -2.97020219]]\n",
      "\n",
      " [[-6.55024628 -6.53094673 -6.54293564 -6.54311039]\n",
      "  [-6.45260986 -6.40626921 -6.42205436 -6.42240721]\n",
      "  [-6.20696449 -6.23148414 -6.23050884 -6.21172736]\n",
      "  [-5.99283392 -5.96795807 -5.95473261 -5.9673588 ]\n",
      "  [-5.65703217 -5.68604484 -5.7010625  -5.66721679]\n",
      "  [-5.34173178 -5.37561717 -5.33304808 -5.34231258]\n",
      "  [-4.96368808 -5.02958765 -5.01029967 -4.96304219]\n",
      "  [-4.53583022 -4.56119551 -4.65206548 -4.54492526]\n",
      "  [-4.04683274 -4.09644934 -4.22356339 -4.03651735]\n",
      "  [-3.43848288 -3.47789714 -3.63227103 -3.61978435]]\n",
      "\n",
      " [[-6.32111947 -6.35362337 -6.35857552 -6.34649994]\n",
      "  [-6.23587839 -6.2421201  -6.26020339 -6.24975185]\n",
      "  [-6.09901194 -6.11914333 -6.100397   -6.0967307 ]\n",
      "  [-5.91713142 -5.91601302 -5.91291171 -5.91426354]\n",
      "  [-5.66473393 -5.69336269 -5.71553904 -5.66643629]\n",
      "  [-5.44676766 -5.447123   -5.40824921 -5.4110849 ]\n",
      "  [-5.12752486 -5.16003321 -5.15977852 -5.13669816]\n",
      "  [-4.8216753  -4.84088675 -4.81312176 -4.8342983 ]\n",
      "  [-4.49089622 -4.49694076 -4.52802455 -4.4898613 ]\n",
      "  [-4.07915244 -4.14375944 -4.24851856 -4.12024748]]\n",
      "\n",
      " [[-6.20719821 -6.1957681  -6.21056219 -6.19649283]\n",
      "  [-6.11389784 -6.1415351  -6.12804688 -6.13006128]\n",
      "  [-6.01219458 -6.01010844 -6.03122873 -6.01724852]\n",
      "  [-5.87936751 -5.86207535 -5.88016702 -5.83916986]\n",
      "  [-5.66631334 -5.67803764 -5.69472943 -5.66306759]\n",
      "  [-5.48511026 -5.49150508 -5.47648584 -5.46355149]\n",
      "  [-5.25269278 -5.3046329  -5.29924377 -5.25318151]\n",
      "  [-5.01322699 -5.06881681 -5.09229815 -5.01022672]\n",
      "  [-4.77224636 -4.82159081 -4.81386637 -4.78922859]\n",
      "  [-4.5799955  -4.58719447 -4.60493063 -4.58702397]]\n",
      "\n",
      " [[-6.09137372 -6.08852603 -6.06641401 -6.11983615]\n",
      "  [-6.04517388 -6.03734645 -6.07279056 -6.05477856]\n",
      "  [-5.93952673 -5.94465824 -5.96823036 -5.94739874]\n",
      "  [-5.81274517 -5.84241039 -5.81436919 -5.81759522]\n",
      "  [-5.6740844  -5.6710015  -5.69631912 -5.67972077]\n",
      "  [-5.51193651 -5.54580041 -5.5364066  -5.5110688 ]\n",
      "  [-5.35469886 -5.33136975 -5.37469142 -5.35916661]\n",
      "  [-5.17220502 -5.1604008  -5.20794996 -5.18490723]\n",
      "  [-4.99345143 -5.05199164 -5.02097404 -5.03319682]\n",
      "  [-4.88910976 -4.91498772 -4.91872143 -4.89324863]]\n",
      "\n",
      " [[-6.02473477 -6.0045884  -5.98392834 -6.02875818]\n",
      "  [-5.97751971 -5.97836948 -5.98112342 -5.97147342]\n",
      "  [-5.91313619 -5.91301789 -5.90088598 -5.87466434]\n",
      "  [-5.78435355 -5.81122392 -5.79733357 -5.80327076]\n",
      "  [-5.6983043  -5.67955146 -5.68994015 -5.67060046]\n",
      "  [-5.53566579 -5.53281356 -5.54845771 -5.54893633]\n",
      "  [-5.39843229 -5.36473993 -5.41379229 -5.35880659]\n",
      "  [-5.22958311 -5.24739336 -5.23811803 -5.21879497]\n",
      "  [-5.13207982 -5.1211684  -5.11453964 -5.14773403]\n",
      "  [-5.05572199 -5.02753749 -5.06820516 -5.04464051]]\n",
      "\n",
      " [[-5.97901734 -5.97490157 -5.97641643 -6.00445585]\n",
      "  [-5.93792461 -5.97145046 -5.96701958 -5.96973074]\n",
      "  [-5.88153899 -5.8611605  -5.89907031 -5.91865618]\n",
      "  [-5.80026777 -5.81969266 -5.81643158 -5.81889886]\n",
      "  [-5.7120779  -5.69828791 -5.70244916 -5.68168338]\n",
      "  [-5.54096674 -5.55867885 -5.57556964 -5.5373176 ]\n",
      "  [-5.38328449 -5.37138479 -5.40183751 -5.39498495]\n",
      "  [-5.28737032 -5.2869646  -5.25111428 -5.28832378]\n",
      "  [-5.19041147 -5.19005046 -5.19091438 -5.15318265]\n",
      "  [-5.09041424 -5.08916418 -5.11520707 -5.10049183]]]\n"
     ]
    }
   ],
   "source": [
    "# Mostrar a tabela-Q após o treinamento\n",
    "print(\"Tabela-Q após o treinamento:\")\n",
    "print(q_table)\n"
   ]
  },
  {
   "cell_type": "markdown",
   "metadata": {},
   "source": [
    "## Visualização da política aprendida\n",
    "\n",
    "a política aprendida pelo agente é visualizada. A política é obtida encontrando a ação com o maior valor Q para cada estado."
   ]
  },
  {
   "cell_type": "code",
   "execution_count": 35,
   "metadata": {},
   "outputs": [
    {
     "name": "stdout",
     "output_type": "stream",
     "text": [
      "\n",
      "Política aprendida:\n",
      "[[3 3 3 3 3 3 3 3 3 0]\n",
      " [0 0 0 0 0 0 0 0 0 0]\n",
      " [0 0 0 0 0 0 0 0 0 0]\n",
      " [3 1 1 0 0 3 1 3 3 0]\n",
      " [1 1 0 2 0 2 3 0 3 0]\n",
      " [0 0 3 2 0 2 0 2 3 0]\n",
      " [1 0 1 3 3 3 0 3 0 0]\n",
      " [2 1 0 0 1 3 1 1 0 0]\n",
      " [2 3 3 0 3 1 3 3 2 1]\n",
      " [1 0 1 0 3 3 1 2 3 1]]\n"
     ]
    }
   ],
   "source": [
    "# Visualização da política aprendida\n",
    "policy = np.argmax(q_table, axis=2)\n",
    "print(\"\\nPolítica aprendida:\")\n",
    "print(policy)"
   ]
  },
  {
   "cell_type": "markdown",
   "metadata": {},
   "source": [
    "A política aprendida é uma representação das ações que o agente deve tomar em cada estado do labirinto para maximizar a recompensa esperada. Cada elemento da matriz representa um estado no labirinto e contém um valor que indica qual ação o agente deve escolher naquele estado. Os valores são mapeados da seguinte forma:\n",
    "\n",
    "- 0: Mover para cima\n",
    "- 1: Mover para baixo\n",
    "- 2: Mover para a esquerda\n",
    "- 3: Mover para a direita\n",
    "\n",
    "Portanto, a política aprendida mostra as ações recomendadas para cada posição no labirinto. Por exemplo, se você olhar para a célula [0, 0], que é o canto superior esquerdo, o valor 1 indica que o agente deve escolher a ação de \"Mover para baixo\" nesse estado. Da mesma forma, a célula [0, 1] tem um valor de 2, o que significa que o agente deve escolher a ação \"Mover para a esquerda\" no próximo estado.\n"
   ]
  },
  {
   "cell_type": "markdown",
   "metadata": {},
   "source": [
    "## Desenho do labirinto com setas vermelhas representando a política aprendida"
   ]
  },
  {
   "cell_type": "code",
   "execution_count": 36,
   "metadata": {},
   "outputs": [
    {
     "data": {
      "image/png": "[encoded data removed]",
      "text/plain": [
       "<Figure size 640x480 with 1 Axes>"
      ]
     },
     "metadata": {},
     "output_type": "display_data"
    }
   ],
   "source": [
    "# Criar matriz de cores para as setas vermelhas\n",
    "arrow_color = np.zeros((GRID_SIZE, GRID_SIZE, 3), dtype=np.uint8)\n",
    "arrow_color[:, :, 2] = 255  # Define o canal vermelho como 255 (vermelho)\n",
    "\n",
    "# Desenhar o labirinto com as setas vermelhas\n",
    "cell_size = 100\n",
    "maze = np.zeros((GRID_SIZE * cell_size, GRID_SIZE * cell_size, 3), dtype=np.uint8)\n",
    "\n",
    "for i in range(GRID_SIZE):\n",
    "    for j in range(GRID_SIZE):\n",
    "        if policy[i, j] == 0:  # Cima\n",
    "            cv2.arrowedLine(maze, (j * cell_size + cell_size // 2, i * cell_size + cell_size // 2), (j * cell_size + cell_size // 2, i * cell_size + cell_size // 2 - 30), (0, 0, 255), 2)\n",
    "        elif policy[i, j] == 1:  # Baixo\n",
    "            cv2.arrowedLine(maze, (j * cell_size + cell_size // 2, i * cell_size + cell_size // 2), (j * cell_size + cell_size // 2, i * cell_size + cell_size // 2 + 30), (0, 0, 255), 2)\n",
    "        elif policy[i, j] == 2:  # Esquerda\n",
    "            cv2.arrowedLine(maze, (j * cell_size + cell_size // 2, i * cell_size + cell_size // 2), (j * cell_size + cell_size // 2 - 30, i * cell_size + cell_size // 2), (0, 0, 255), 2)\n",
    "        elif policy[i, j] == 3:  # Direita\n",
    "            cv2.arrowedLine(maze, (j * cell_size + cell_size // 2, i * cell_size + cell_size // 2), (j * cell_size + cell_size // 2 + 30, i * cell_size + cell_size // 2), (0, 0, 255), 2)\n",
    "\n",
    "plt.imshow(maze)\n",
    "plt.show()\n"
   ]
  }
 ],
 "metadata": {
  "kernelspec": {
   "display_name": "env_AR",
   "language": "python",
   "name": "python3"
  },
  "language_info": {
   "codemirror_mode": {
    "name": "ipython",
    "version": 3
   },
   "file_extension": ".py",
   "mimetype": "text/x-python",
   "name": "python",
   "nbconvert_exporter": "python",
   "pygments_lexer": "ipython3",
   "version": "3.9.11"
  },
  "orig_nbformat": 4
 },
 "nbformat": 4,
 "nbformat_minor": 2
}
