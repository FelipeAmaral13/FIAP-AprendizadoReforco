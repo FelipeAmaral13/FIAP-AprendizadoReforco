{
 "cells": [
  {
   "cell_type": "markdown",
   "metadata": {},
   "source": [
    "# Treinamento de Agente em Labirinto com Aprendizado por Reforço\n",
    "\n",
    "Neste código, um agente é treinado para navegar por um labirinto usando aprendizado por reforço. O labirinto é representado como uma grade e o agente pode executar quatro ações possíveis: \n",
    "* mover para cima, mover para baixo, mover para a esquerda e mover para a direita. \n",
    "\n",
    "O objetivo do agente é aprender a política ótima que o guia do estado inicial ao estado objetivo, maximizando a recompensa acumulada."
   ]
  },
  {
   "cell_type": "markdown",
   "metadata": {},
   "source": [
    "## Configurações iniciais\n",
    "\n",
    "Inicializar as configurações iniciais do ambiente do labirinto, como o tamanho do labirinto, o número de ações possíveis, a taxa de aprendizado, o fator de desconto e o número de episódios de treinamento. Além disso, inicializar uma matriz chamada q_table que será usada para armazenar os valores da função Q."
   ]
  },
  {
   "cell_type": "code",
   "execution_count": 1,
   "metadata": {},
   "outputs": [],
   "source": [
    "import cv2\n",
    "import numpy as np\n",
    "import random\n",
    "import matplotlib.pyplot as plt\n",
    "\n",
    "# Tamanho do labirinto\n",
    "GRID_SIZE = 10\n",
    "\n",
    "# Número de ações possíveis (cima, baixo, esquerda, direita)\n",
    "NUM_ACTIONS = 4\n",
    "\n",
    "# Taxa de aprendizado\n",
    "LEARNING_RATE = 0.1\n",
    "\n",
    "# Fator de desconto\n",
    "DISCOUNT_FACTOR = 0.9\n",
    "\n",
    "# Número de episódios de treinamento\n",
    "NUM_EPISODES = 1000\n",
    "\n",
    "# Inicialização da tabela-Q\n",
    "q_table = np.zeros((GRID_SIZE, GRID_SIZE, NUM_ACTIONS))\n"
   ]
  },
  {
   "cell_type": "markdown",
   "metadata": {},
   "source": [
    "## Definição de funções \n",
    "\n",
    "Definir duas funções: \n",
    "\n",
    "* `choose_action`: que escolhe uma ação com base na estratégia epsilon-greedy.\n",
    "* `run_episode`: que executa um episódio de treinamento do agente no labirinto. \n",
    "\n",
    "A função choose_action decide se o agente deve explorar (escolhendo uma ação aleatória) ou explorar (escolhendo a ação com maior valor Q) com base no valor de epsilon. A função run_episode simula o movimento do agente no labirinto, atualiza a tabela Q com base na recompensa e na equação de Bellman."
   ]
  },
  {
   "cell_type": "code",
   "execution_count": 2,
   "metadata": {},
   "outputs": [],
   "source": [
    "# Função para escolher uma ação epsilon-greedy\n",
    "def choose_action(state, epsilon):\n",
    "    if random.uniform(0, 1) < epsilon:\n",
    "        return random.randint(0, NUM_ACTIONS - 1)  # Escolhe uma ação aleatória\n",
    "    else:\n",
    "        return np.argmax(q_table[state[0], state[1]])\n",
    "\n",
    "# Função para executar um episódio\n",
    "def run_episode():\n",
    "    state = [0, 0]  # Estado inicial\n",
    "    goal = [GRID_SIZE - 1, GRID_SIZE - 1]  # Objetivo\n",
    "    epsilon = 0.1  # Valor de epsilon para exploração\n",
    "\n",
    "    while state != goal:\n",
    "        action = choose_action(state, epsilon)\n",
    "        new_state = state.copy()\n",
    "\n",
    "        # Simulação de movimento do agente\n",
    "        if action == 0:  # Mover para cima\n",
    "            new_state[0] = max(0, state[0] - 1)\n",
    "        elif action == 1:  # Mover para baixo\n",
    "            new_state[0] = min(GRID_SIZE - 1, state[0] + 1)\n",
    "        elif action == 2:  # Mover para a esquerda\n",
    "            new_state[1] = max(0, state[1] - 1)\n",
    "        elif action == 3:  # Mover para a direita\n",
    "            new_state[1] = min(GRID_SIZE - 1, state[1] + 1)\n",
    "\n",
    "        reward = -1  # Recompensa por movimento\n",
    "\n",
    "        # Atualização da tabela-Q usando a equação de Bellman\n",
    "        q_table[state[0], state[1], action] = (1 - LEARNING_RATE) * q_table[state[0], state[1], action] + LEARNING_RATE * (reward + DISCOUNT_FACTOR * np.max(q_table[new_state[0], new_state[1]]))\n",
    "\n",
    "        state = new_state\n"
   ]
  },
  {
   "cell_type": "markdown",
   "metadata": {},
   "source": [
    "## Treinamento do agente\n",
    "\n",
    "Esta célula treina o agente executando um número de episódios especificado por NUM_EPISODES. Cada episódio é executado chamando a função run_episode."
   ]
  },
  {
   "cell_type": "code",
   "execution_count": 3,
   "metadata": {},
   "outputs": [],
   "source": [
    "# Treinamento do agente\n",
    "for episode in range(NUM_EPISODES):\n",
    "    run_episode()\n"
   ]
  },
  {
   "cell_type": "markdown",
   "metadata": {},
   "source": [
    "## Exibição da tabela-Q após o treinamento\n",
    "\n",
    "Esta célula exibe a tabela Q após o treinamento. A tabela Q contém os valores estimados para a função Q após o treinamento."
   ]
  },
  {
   "cell_type": "code",
   "execution_count": 4,
   "metadata": {},
   "outputs": [
    {
     "name": "stdout",
     "output_type": "stream",
     "text": [
      "Tabela-Q após o treinamento:\n",
      "[[[-8.09982727 -8.0646883  -8.1084549  -8.06609737]\n",
      "  [-7.88400055 -7.8690809  -7.87539605 -7.87036872]\n",
      "  [-7.69925827 -7.66105273 -7.67375183 -7.66204004]\n",
      "  [-7.46149912 -7.43849599 -7.43667261 -7.44025267]\n",
      "  [-7.22178019 -7.20635744 -7.20538088 -7.20680069]\n",
      "  [-6.95770691 -6.95986528 -6.98653481 -6.95670855]\n",
      "  [-6.71520316 -6.71579387 -6.69662606 -6.70182589]\n",
      "  [-6.43180784 -6.43804595 -6.48535444 -6.44333648]\n",
      "  [-6.18051656 -6.1861675  -6.1825441  -6.1917478 ]\n",
      "  [-5.9780637  -5.977368   -5.97805593 -5.98012908]]\n",
      "\n",
      " [[-7.91827442 -7.86695267 -7.87794323 -7.86737833]\n",
      "  [-7.7111214  -7.69495065 -7.70838254 -7.69072945]\n",
      "  [-7.5136634  -7.49879731 -7.52196046 -7.4931252 ]\n",
      "  [-7.28975767 -7.28338234 -7.28665992 -7.28297523]\n",
      "  [-7.05716947 -7.05924266 -7.06357607 -7.05958305]\n",
      "  [-6.8203173  -6.80385648 -6.87276034 -6.8103298 ]\n",
      "  [-6.55991948 -6.55941153 -6.55276766 -6.55227095]\n",
      "  [-6.31694077 -6.26895534 -6.32799681 -6.27101554]\n",
      "  [-6.00470183 -5.97807996 -5.98953574 -5.9783611 ]\n",
      "  [-5.71815885 -5.67357001 -5.70021798 -5.69484105]]\n",
      "\n",
      " [[-7.66946183 -7.6596048  -7.65700519 -7.65804506]\n",
      "  [-7.53001656 -7.49370114 -7.52592412 -7.49773331]\n",
      "  [-7.35495391 -7.30418179 -7.30611894 -7.30887642]\n",
      "  [-7.10766525 -7.09409758 -7.09937123 -7.09716987]\n",
      "  [-6.87312834 -6.86032967 -6.87287633 -6.85905113]\n",
      "  [-6.60376301 -6.59881157 -6.66273084 -6.58986097]\n",
      "  [-6.32345082 -6.31047871 -6.41091713 -6.31020394]\n",
      "  [-6.11331084 -5.99064742 -6.00437131 -5.9871402 ]\n",
      "  [-5.66344393 -5.62975831 -5.76577564 -5.63241888]\n",
      "  [-5.25380927 -5.21574198 -5.32296242 -5.32153009]]\n",
      "\n",
      " [[-7.47526865 -7.43600343 -7.46428841 -7.43232338]\n",
      "  [-7.36932378 -7.27391789 -7.29290453 -7.28133743]\n",
      "  [-7.12805831 -7.08496386 -7.14312003 -7.08524854]\n",
      "  [-6.90948009 -6.86300061 -6.88698494 -6.86428504]\n",
      "  [-6.64019207 -6.61366753 -6.70533443 -6.60644632]\n",
      "  [-6.35852362 -6.32478258 -6.36214324 -6.32168247]\n",
      "  [-6.08009758 -5.9999106  -6.00760099 -6.00455207]\n",
      "  [-5.6660588  -5.63095189 -5.73217608 -5.62885724]\n",
      "  [-5.19940361 -5.19717902 -5.26439689 -5.19595595]\n",
      "  [-4.72521719 -4.68556649 -4.90947691 -4.86568168]]\n",
      "\n",
      " [[-7.21839783 -7.19453074 -7.21226833 -7.20801837]\n",
      "  [-7.08460939 -7.0539959  -7.06452257 -7.05192359]\n",
      "  [-6.89391978 -6.85008453 -6.88795865 -6.84788136]\n",
      "  [-6.62367819 -6.60576047 -6.65627945 -6.60244111]\n",
      "  [-6.33351007 -6.32709206 -6.35430519 -6.32333925]\n",
      "  [-6.10761951 -6.00154207 -6.04058026 -5.99631663]\n",
      "  [-5.6954737  -5.62169143 -5.63596652 -5.6256438 ]\n",
      "  [-5.25871405 -5.18920435 -5.23700876 -5.18747948]\n",
      "  [-4.87180568 -4.67926133 -4.7088173  -4.67972726]\n",
      "  [-4.13859193 -4.09509991 -4.53183601 -4.27886711]]\n",
      "\n",
      " [[-6.93926115 -6.94552868 -6.96431308 -6.95493555]\n",
      "  [-6.84742497 -6.80617362 -6.8131487  -6.81360061]\n",
      "  [-6.59714714 -6.59498845 -6.62483083 -6.58969958]\n",
      "  [-6.33087004 -6.32379168 -6.34651507 -6.31456833]\n",
      "  [-6.00371986 -6.00091679 -6.03717921 -5.99543246]\n",
      "  [-5.70051779 -5.62032628 -5.65144891 -5.62169561]\n",
      "  [-5.29505846 -5.18096489 -5.24614416 -5.18275761]\n",
      "  [-4.7843085  -4.6752776  -4.72770328 -4.67597467]\n",
      "  [-4.54768512 -4.0934982  -4.44516028 -4.093518  ]\n",
      "  [-3.91508592 -3.439      -4.25226843 -3.6619266 ]]\n",
      "\n",
      " [[-6.69153193 -6.69558271 -6.73458041 -6.69630762]\n",
      "  [-6.57570828 -6.54184708 -6.5611201  -6.54657268]\n",
      "  [-6.32072873 -6.30193995 -6.32596163 -6.31037027]\n",
      "  [-6.11392091 -5.99731617 -6.03055705 -5.99568917]\n",
      "  [-5.61779296 -5.62597608 -5.63102658 -5.62175608]\n",
      "  [-5.20256313 -5.18143445 -5.25852325 -5.18054724]\n",
      "  [-4.97945526 -4.6706707  -4.68904187 -4.6714957 ]\n",
      "  [-4.43904663 -4.09163095 -4.15009533 -4.09156222]\n",
      "  [-3.81901371 -3.43865982 -3.70526049 -3.4386612 ]\n",
      "  [-3.56083384 -2.71       -3.55546468 -3.02598517]]\n",
      "\n",
      " [[-6.4756213  -6.43416757 -6.4458139  -6.43268735]\n",
      "  [-6.29811565 -6.26783261 -6.28019545 -6.25665178]\n",
      "  [-5.99680285 -5.98730852 -5.9962101  -5.98772823]\n",
      "  [-5.6809208  -5.62444085 -5.69645536 -5.6226411 ]\n",
      "  [-5.25295505 -5.18759596 -5.2329094  -5.18550191]\n",
      "  [-4.79425736 -4.67354504 -4.80009165 -4.67390837]\n",
      "  [-4.19556063 -4.09160809 -4.20054687 -4.09137112]\n",
      "  [-3.66301544 -3.43838613 -3.51515916 -3.4383908 ]\n",
      "  [-2.7953948  -2.70996212 -3.0563754  -2.70996215]\n",
      "  [-3.06655096 -1.9        -3.04830141 -2.42184194]]\n",
      "\n",
      " [[-6.19131262 -6.20643677 -6.20907203 -6.18937986]\n",
      "  [-6.00789556 -5.96843977 -6.02653301 -5.97752803]\n",
      "  [-5.69040863 -5.6372998  -5.66740972 -5.63285863]\n",
      "  [-5.21434546 -5.19450626 -5.30694899 -5.19363047]\n",
      "  [-4.8439932  -4.67901913 -4.78484161 -4.67897067]\n",
      "  [-4.36769174 -4.09302435 -4.57642083 -4.09304924]\n",
      "  [-3.5704848  -3.43858359 -3.73567744 -3.43862032]\n",
      "  [-3.22062933 -2.70995381 -3.20975858 -2.70995438]\n",
      "  [-2.67275936 -1.89999763 -2.16921022 -1.89999778]\n",
      "  [-2.06234224 -1.         -2.18913437 -1.68244138]]\n",
      "\n",
      " [[-6.02147928 -5.97832932 -5.98230465 -5.98090548]\n",
      "  [-5.70301203 -5.68294343 -5.72831302 -5.67519272]\n",
      "  [-5.29964491 -5.24169163 -5.40991916 -5.21596053]\n",
      "  [-4.92002527 -4.81946716 -4.91052715 -4.6855703 ]\n",
      "  [-4.23941634 -4.17681649 -4.46110565 -4.09509992]\n",
      "  [-4.12203819 -3.80417735 -3.96899758 -3.439     ]\n",
      "  [-3.39683859 -3.2195588  -3.02554654 -2.71      ]\n",
      "  [-3.13693103 -2.54202067 -2.48536969 -1.9       ]\n",
      "  [-2.14782992 -1.59816997 -1.99850283 -1.        ]\n",
      "  [ 0.          0.          0.          0.        ]]]\n"
     ]
    }
   ],
   "source": [
    "# Mostrar a tabela-Q após o treinamento\n",
    "print(\"Tabela-Q após o treinamento:\")\n",
    "print(q_table)\n"
   ]
  },
  {
   "cell_type": "markdown",
   "metadata": {},
   "source": [
    "## Visualização da política aprendida\n",
    "\n",
    "a política aprendida pelo agente é visualizada. A política é obtida encontrando a ação com o maior valor Q para cada estado."
   ]
  },
  {
   "cell_type": "code",
   "execution_count": 5,
   "metadata": {},
   "outputs": [
    {
     "name": "stdout",
     "output_type": "stream",
     "text": [
      "\n",
      "Política aprendida:\n",
      "[[1 1 1 2 2 3 2 0 0 1]\n",
      " [1 3 3 3 0 1 3 1 1 1]\n",
      " [2 1 1 1 3 3 3 3 1 1]\n",
      " [3 1 1 1 3 3 1 3 3 1]\n",
      " [1 3 3 3 3 3 1 3 1 1]\n",
      " [0 1 3 3 3 1 1 1 1 1]\n",
      " [0 1 1 3 0 3 1 3 1 1]\n",
      " [3 3 1 3 3 1 3 1 1 1]\n",
      " [3 1 3 3 3 1 1 1 1 1]\n",
      " [1 3 3 3 3 3 3 3 3 0]]\n"
     ]
    }
   ],
   "source": [
    "# Visualização da política aprendida\n",
    "policy = np.argmax(q_table, axis=2)\n",
    "print(\"\\nPolítica aprendida:\")\n",
    "print(policy)"
   ]
  },
  {
   "cell_type": "markdown",
   "metadata": {},
   "source": [
    "A política aprendida é uma representação das ações que o agente deve tomar em cada estado do labirinto para maximizar a recompensa esperada. Cada elemento da matriz representa um estado no labirinto e contém um valor que indica qual ação o agente deve escolher naquele estado. Os valores são mapeados da seguinte forma:\n",
    "\n",
    "- 0: Mover para cima\n",
    "- 1: Mover para baixo\n",
    "- 2: Mover para a esquerda\n",
    "- 3: Mover para a direita\n",
    "\n",
    "Portanto, a política aprendida mostra as ações recomendadas para cada posição no labirinto. Por exemplo, se você olhar para a célula [0, 0], que é o canto superior esquerdo, o valor 1 indica que o agente deve escolher a ação de \"Mover para baixo\" nesse estado. Da mesma forma, a célula [0, 1] tem um valor de 2, o que significa que o agente deve escolher a ação \"Mover para a esquerda\" no próximo estado.\n"
   ]
  },
  {
   "cell_type": "markdown",
   "metadata": {},
   "source": [
    "## Desenho do labirinto com setas vermelhas representando a política aprendida"
   ]
  },
  {
   "cell_type": "code",
   "execution_count": 6,
   "metadata": {},
   "outputs": [
    {
     "data": {
      "image/png": "[encoded data removed]",
      "text/plain": [
       "<Figure size 640x480 with 1 Axes>"
      ]
     },
     "metadata": {},
     "output_type": "display_data"
    }
   ],
   "source": [
    "# Criar matriz de cores para as setas vermelhas\n",
    "arrow_color = np.zeros((GRID_SIZE, GRID_SIZE, 3), dtype=np.uint8)\n",
    "arrow_color[:, :, 2] = 255  # Define o canal vermelho como 255 (vermelho)\n",
    "\n",
    "# Desenhar o labirinto com as setas vermelhas\n",
    "cell_size = 100\n",
    "maze = np.zeros((GRID_SIZE * cell_size, GRID_SIZE * cell_size, 3), dtype=np.uint8)\n",
    "\n",
    "for i in range(GRID_SIZE):\n",
    "    for j in range(GRID_SIZE):\n",
    "        if policy[i, j] == 0:  # Cima\n",
    "            cv2.arrowedLine(maze, (j * cell_size + cell_size // 2, i * cell_size + cell_size // 2), (j * cell_size + cell_size // 2, i * cell_size + cell_size // 2 - 30), (0, 0, 255), 2)\n",
    "        elif policy[i, j] == 1:  # Baixo\n",
    "            cv2.arrowedLine(maze, (j * cell_size + cell_size // 2, i * cell_size + cell_size // 2), (j * cell_size + cell_size // 2, i * cell_size + cell_size // 2 + 30), (0, 0, 255), 2)\n",
    "        elif policy[i, j] == 2:  # Esquerda\n",
    "            cv2.arrowedLine(maze, (j * cell_size + cell_size // 2, i * cell_size + cell_size // 2), (j * cell_size + cell_size // 2 - 30, i * cell_size + cell_size // 2), (0, 0, 255), 2)\n",
    "        elif policy[i, j] == 3:  # Direita\n",
    "            cv2.arrowedLine(maze, (j * cell_size + cell_size // 2, i * cell_size + cell_size // 2), (j * cell_size + cell_size // 2 + 30, i * cell_size + cell_size // 2), (0, 0, 255), 2)\n",
    "\n",
    "plt.imshow(maze)\n",
    "plt.show()\n"
   ]
  }
 ],
 "metadata": {
  "kernelspec": {
   "display_name": "env_AR",
   "language": "python",
   "name": "python3"
  },
  "language_info": {
   "codemirror_mode": {
    "name": "ipython",
    "version": 3
   },
   "file_extension": ".py",
   "mimetype": "text/x-python",
   "name": "python",
   "nbconvert_exporter": "python",
   "pygments_lexer": "ipython3",
   "version": "3.9.11"
  },
  "orig_nbformat": 4
 },
 "nbformat": 4,
 "nbformat_minor": 2
}
