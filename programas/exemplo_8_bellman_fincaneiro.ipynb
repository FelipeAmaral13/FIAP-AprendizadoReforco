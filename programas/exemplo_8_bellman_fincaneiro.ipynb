{
 "cells": [
  {
   "cell_type": "markdown",
   "metadata": {},
   "source": [
    "# Equação de Bellman em cenário financeiro:\n",
    "\n",
    "Como a Equação de Bellman pode ser aplicada em um problema de alocação de recursos financeiros em ações. O objetivo é maximizar o valor final do investimento após um período de 6 meses, considerando três tipos de ações: Ações de Tecnologia, Ações de Energia e Ações de Saúde. O agente (investidor) pode alocar dinheiro em cada tipo de ação a cada mês."
   ]
  },
  {
   "cell_type": "markdown",
   "metadata": {},
   "source": [
    "# Configuração Inicial e Parâmetros\n",
    "\n",
    "Nesta célula, configuramos os parâmetros iniciais do problema, como o dinheiro inicial disponível, o número de escolhas de investimento (ações), o número de meses e o fator de desconto (γγ). Também definimos os retornos médios esperados e os fatores de risco associados a cada tipo de ação."
   ]
  },
  {
   "cell_type": "code",
   "execution_count": 1,
   "metadata": {},
   "outputs": [],
   "source": [
    "import numpy as np\n",
    "\n",
    "# Parâmetros do problema\n",
    "initial_money = 10000  # Dinheiro inicial\n",
    "investment_choices = 3  # Número de tipos de ações para investir (Tech, Energy, Health)\n",
    "months = 6  # Número de meses de investimento\n",
    "gamma = 0.9  # Fator de desconto\n",
    "\n",
    "# Retorno médio esperado por ação e risco associado (usados para gerar recompensas)\n",
    "mean_returns = np.array([0.02, 0.015, 0.01])\n",
    "risk_factors = np.array([0.03, 0.02, 0.015])\n"
   ]
  },
  {
   "cell_type": "markdown",
   "metadata": {},
   "source": [
    "# Funções de Cálculo de Recompensa e Valor dos Estados\n",
    "\n",
    "Nesta célula, definimos duas funções:\n",
    "\n",
    "* calculate_reward: Calcula a recompensa esperada com base nas alocações de dinheiro entre as ações e nos retornos médios esperados, levando em consideração o risco.\n",
    "\n",
    "* calculate_value: Calcula o valor esperado do estado usando a Equação de Bellman. Ela leva em consideração o mês atual e a alocação de recursos. Se o mês atual for o último (6º mês), o valor final é o próprio estado."
   ]
  },
  {
   "cell_type": "code",
   "execution_count": 2,
   "metadata": {},
   "outputs": [],
   "source": [
    "# Função para calcular as recompensas com base nas alocações e retornos médios\n",
    "def calculate_reward(allocation):\n",
    "    returns = np.sum(mean_returns * allocation)  # Retorno total\n",
    "    risk = np.sqrt(np.sum((allocation * risk_factors) ** 2))  # Risco total\n",
    "    return returns - 0.5 * risk  # Recompensa é o retorno menos metade do risco\n",
    "\n",
    "# Função para calcular o valor esperado do estado usando a Equação de Bellman\n",
    "def calculate_value(state, month):\n",
    "    if month == months:\n",
    "        return state  # Valor final após 6 meses é o próprio estado\n",
    "    \n",
    "    max_value = -np.inf\n",
    "    for allocation in generate_allocations(state, investment_choices):\n",
    "        reward = calculate_reward(allocation)\n",
    "        next_state = state - np.sum(allocation)\n",
    "        value = reward + gamma * calculate_value(next_state, month + 1)\n",
    "        if value > max_value:\n",
    "            max_value = value\n",
    "    \n",
    "    return max_value\n"
   ]
  },
  {
   "cell_type": "markdown",
   "metadata": {},
   "source": [
    "# Função para Gerar Alocações de Recursos\n",
    "\n",
    "Nesta célula, definimos uma função chamada generate_allocations que gera todas as possíveis alocações de dinheiro entre as ações (Tecnologia, Energia, Saúde) com base no dinheiro disponível e no número de escolhas de investimento. Essa função nos ajudará a explorar todas as combinações possíveis de alocação."
   ]
  },
  {
   "cell_type": "code",
   "execution_count": 3,
   "metadata": {},
   "outputs": [],
   "source": [
    "# Função para gerar todas as possíveis alocações de dinheiro entre as ações\n",
    "def generate_allocations(total_money, num_choices):\n",
    "    allocations = []\n",
    "    for i in range(total_money + 1):\n",
    "        for j in range(total_money + 1 - i):\n",
    "            k = total_money - i - j\n",
    "            if i % 1000 == 0 and j % 1000 == 0 and k % 1000 == 0:\n",
    "                allocations.append(np.array([i, j, k]))\n",
    "    return allocations\n"
   ]
  },
  {
   "cell_type": "markdown",
   "metadata": {},
   "source": [
    "# Cálculo da Alocação Ótima e Resultados\n",
    "\n",
    "Nesta célula, calculamos a alocação ótima de dinheiro em cada tipo de ação (Tecnologia, Energia, Saúde) a cada mês, de forma a maximizar o valor final após 6 meses usando a Equação de Bellman. Em seguida, exibimos os resultados, incluindo a alocação ótima e o valor final do investimento."
   ]
  },
  {
   "cell_type": "code",
   "execution_count": 4,
   "metadata": {},
   "outputs": [
    {
     "name": "stdout",
     "output_type": "stream",
     "text": [
      "Alocação ótima de dinheiro em cada tipo de ação:\n",
      "Ações de Tecnologia: $ 4000\n",
      "Ações de Energia: $ 5000\n",
      "Ações de Saúde: $ 1000\n",
      "Valor final após 6 meses: $ 86.53822586762392\n"
     ]
    }
   ],
   "source": [
    "# Calcular a alocação ótima de dinheiro em cada mês usando a Equação de Bellman\n",
    "optimal_allocation = [0, 0, 0]\n",
    "max_value = -np.inf\n",
    "\n",
    "for allocation in generate_allocations(initial_money, investment_choices):\n",
    "    reward = calculate_reward(allocation)\n",
    "    next_state = initial_money - np.sum(allocation)\n",
    "    value = reward + gamma * calculate_value(next_state, 1)\n",
    "    \n",
    "    if value > max_value:\n",
    "        max_value = value\n",
    "        optimal_allocation = allocation\n",
    "\n",
    "# Resultado\n",
    "print(\"Alocação ótima de dinheiro em cada tipo de ação:\")\n",
    "print(\"Ações de Tecnologia: $\", optimal_allocation[0])\n",
    "print(\"Ações de Energia: $\", optimal_allocation[1])\n",
    "print(\"Ações de Saúde: $\", optimal_allocation[2])\n",
    "print(\"Valor final após 6 meses: $\", max_value)\n"
   ]
  }
 ],
 "metadata": {
  "kernelspec": {
   "display_name": "env_AR",
   "language": "python",
   "name": "python3"
  },
  "language_info": {
   "codemirror_mode": {
    "name": "ipython",
    "version": 3
   },
   "file_extension": ".py",
   "mimetype": "text/x-python",
   "name": "python",
   "nbconvert_exporter": "python",
   "pygments_lexer": "ipython3",
   "version": "3.9.11"
  },
  "orig_nbformat": 4
 },
 "nbformat": 4,
 "nbformat_minor": 2
}
